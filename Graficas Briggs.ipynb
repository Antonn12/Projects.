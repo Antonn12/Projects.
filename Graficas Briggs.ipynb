{
 "cells": [
  {
   "cell_type": "code",
   "execution_count": 1,
   "metadata": {},
   "outputs": [],
   "source": [
    "using Plots\n",
    "using DSP\n",
    "function findmaxima(y)\n",
    "    n = length(y)\n",
    "    maxima = Int[]\n",
    "    for i in 2:n-1\n",
    "        if y[i] > y[i-1] && y[i] > y[i+1]\n",
    "            push!(maxima, i)\n",
    "        end\n",
    "    end\n",
    "    return maxima\n",
    "end\n",
    "\n",
    "# Generate some example data\n",
    "y = [0.337, 0.347, 0.343, 0.307, 0.214, 0.103, 0.0255, 0.0056, 0.0055, 0.012, 0.0344, 0.046, 0.0278, \n",
    "        0.0127, 0.0052, 0.0047, 0.001, 0.0013, 0.003, 0.017, 0.041, 0.0568, 0.065, 0.063, 0.035, 0.013, \n",
    "        0.0048, 0.0019, 0.009, 0.001, 0.002, 0.0022, 0.001, 0.0005]\n",
    "\n",
    "x = [2*i for i in 0:33]\n",
    "\n",
    "# y_err = 0.1 .* rand(length(x)) # generate random error values\n",
    "y_err2=y.*(0.5/100) \n",
    "y_err=y_err2 .+0.001\n",
    "maxima= findmaxima(y)\n",
    "# Plot the diffractogram with error bars\n",
    "plot(x, y, ylims = (0, 0.1),xlabel = \"Ángulo (2θ)\", ylabel = \"Voltaje (V)\", label = :none)\n",
    "title!(\"Difractograma de la Familia (100)\")\n",
    "for i in maxima\n",
    "    annotate!(x[i], y[i]+0.001, text(string(round(y[i], digits = 3))*\" V\", :bottom, 10))\n",
    "\n",
    "    #annotate!(x[i], y[i]+0.008, , halign = :top, textsize=1)\n",
    "end\n",
    "scatter!(x, y, label = \"Valores\", markersize = 3, color=:blue, legend = :none)\n",
    "scatter!(x[maxima], y[maxima], label = \"Valores maximos\", markersize = 5, color=:orange)\n",
    "\n",
    "\n",
    "savefig(\"diffractograma.png\")\n",
    "yu"
   ]
  }
 ],
 "metadata": {
  "kernelspec": {
   "display_name": "Julia 1.7.2",
   "language": "julia",
   "name": "julia-1.7"
  },
  "language_info": {
   "file_extension": ".jl",
   "mimetype": "application/julia",
   "name": "julia",
   "version": "1.7.2"
  }
 },
 "nbformat": 4,
 "nbformat_minor": 2
}
